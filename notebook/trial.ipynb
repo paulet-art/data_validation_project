{
 "cells": [
  {
   "cell_type": "code",
   "execution_count": 76,
   "metadata": {},
   "outputs": [
    {
     "name": "stdout",
     "output_type": "stream",
     "text": [
      "Requirement already satisfied: great_expectations in /home/paulet/Documents/data_validation_project/venv/lib/python3.11/site-packages (1.3.0)\n",
      "Requirement already satisfied: altair<5.0.0,>=4.2.1 in /home/paulet/Documents/data_validation_project/venv/lib/python3.11/site-packages (from great_expectations) (4.2.2)\n",
      "Requirement already satisfied: cryptography>=3.2 in /home/paulet/Documents/data_validation_project/venv/lib/python3.11/site-packages (from great_expectations) (44.0.0)\n",
      "Requirement already satisfied: jinja2>=2.10 in /home/paulet/Documents/data_validation_project/venv/lib/python3.11/site-packages (from great_expectations) (3.1.5)\n",
      "Requirement already satisfied: jsonschema>=2.5.1 in /home/paulet/Documents/data_validation_project/venv/lib/python3.11/site-packages (from great_expectations) (4.23.0)\n",
      "Requirement already satisfied: marshmallow<4.0.0,>=3.7.1 in /home/paulet/Documents/data_validation_project/venv/lib/python3.11/site-packages (from great_expectations) (3.23.2)\n",
      "Requirement already satisfied: mistune>=0.8.4 in /home/paulet/Documents/data_validation_project/venv/lib/python3.11/site-packages (from great_expectations) (3.1.0)\n",
      "Requirement already satisfied: packaging in /home/paulet/Documents/data_validation_project/venv/lib/python3.11/site-packages (from great_expectations) (24.2)\n",
      "Requirement already satisfied: posthog<3,>=2.1.0 in /home/paulet/Documents/data_validation_project/venv/lib/python3.11/site-packages (from great_expectations) (2.5.0)\n",
      "Requirement already satisfied: pydantic>=1.10.7 in /home/paulet/Documents/data_validation_project/venv/lib/python3.11/site-packages (from great_expectations) (2.10.4)\n",
      "Requirement already satisfied: pyparsing>=2.4 in /home/paulet/Documents/data_validation_project/venv/lib/python3.11/site-packages (from great_expectations) (3.2.1)\n",
      "Requirement already satisfied: python-dateutil>=2.8.1 in /home/paulet/Documents/data_validation_project/venv/lib/python3.11/site-packages (from great_expectations) (2.9.0.post0)\n",
      "Requirement already satisfied: requests>=2.20 in /home/paulet/Documents/data_validation_project/venv/lib/python3.11/site-packages (from great_expectations) (2.32.3)\n",
      "Requirement already satisfied: ruamel.yaml>=0.16 in /home/paulet/Documents/data_validation_project/venv/lib/python3.11/site-packages (from great_expectations) (0.18.8)\n",
      "Requirement already satisfied: scipy>=1.6.0 in /home/paulet/Documents/data_validation_project/venv/lib/python3.11/site-packages (from great_expectations) (1.14.1)\n",
      "Requirement already satisfied: tqdm>=4.59.0 in /home/paulet/Documents/data_validation_project/venv/lib/python3.11/site-packages (from great_expectations) (4.67.1)\n",
      "Requirement already satisfied: typing-extensions>=4.1.0 in /home/paulet/Documents/data_validation_project/venv/lib/python3.11/site-packages (from great_expectations) (4.12.2)\n",
      "Requirement already satisfied: tzlocal>=1.2 in /home/paulet/Documents/data_validation_project/venv/lib/python3.11/site-packages (from great_expectations) (5.2)\n",
      "Requirement already satisfied: numpy>=1.22.4 in /home/paulet/Documents/data_validation_project/venv/lib/python3.11/site-packages (from great_expectations) (1.26.4)\n",
      "Requirement already satisfied: pandas<2.2,>=1.3.0 in /home/paulet/Documents/data_validation_project/venv/lib/python3.11/site-packages (from great_expectations) (2.1.4)\n",
      "Requirement already satisfied: entrypoints in /home/paulet/Documents/data_validation_project/venv/lib/python3.11/site-packages (from altair<5.0.0,>=4.2.1->great_expectations) (0.4)\n",
      "Requirement already satisfied: toolz in /home/paulet/Documents/data_validation_project/venv/lib/python3.11/site-packages (from altair<5.0.0,>=4.2.1->great_expectations) (1.0.0)\n",
      "Requirement already satisfied: cffi>=1.12 in /home/paulet/Documents/data_validation_project/venv/lib/python3.11/site-packages (from cryptography>=3.2->great_expectations) (1.17.1)\n",
      "Requirement already satisfied: MarkupSafe>=2.0 in /home/paulet/Documents/data_validation_project/venv/lib/python3.11/site-packages (from jinja2>=2.10->great_expectations) (3.0.2)\n",
      "Requirement already satisfied: attrs>=22.2.0 in /home/paulet/Documents/data_validation_project/venv/lib/python3.11/site-packages (from jsonschema>=2.5.1->great_expectations) (24.3.0)\n",
      "Requirement already satisfied: jsonschema-specifications>=2023.03.6 in /home/paulet/Documents/data_validation_project/venv/lib/python3.11/site-packages (from jsonschema>=2.5.1->great_expectations) (2024.10.1)\n",
      "Requirement already satisfied: referencing>=0.28.4 in /home/paulet/Documents/data_validation_project/venv/lib/python3.11/site-packages (from jsonschema>=2.5.1->great_expectations) (0.35.1)\n",
      "Requirement already satisfied: rpds-py>=0.7.1 in /home/paulet/Documents/data_validation_project/venv/lib/python3.11/site-packages (from jsonschema>=2.5.1->great_expectations) (0.22.3)\n",
      "Requirement already satisfied: pytz>=2020.1 in /home/paulet/Documents/data_validation_project/venv/lib/python3.11/site-packages (from pandas<2.2,>=1.3.0->great_expectations) (2024.2)\n",
      "Requirement already satisfied: tzdata>=2022.1 in /home/paulet/Documents/data_validation_project/venv/lib/python3.11/site-packages (from pandas<2.2,>=1.3.0->great_expectations) (2024.2)\n",
      "Requirement already satisfied: six>=1.5 in /home/paulet/Documents/data_validation_project/venv/lib/python3.11/site-packages (from posthog<3,>=2.1.0->great_expectations) (1.17.0)\n",
      "Requirement already satisfied: monotonic>=1.5 in /home/paulet/Documents/data_validation_project/venv/lib/python3.11/site-packages (from posthog<3,>=2.1.0->great_expectations) (1.6)\n",
      "Requirement already satisfied: backoff>=1.10.0 in /home/paulet/Documents/data_validation_project/venv/lib/python3.11/site-packages (from posthog<3,>=2.1.0->great_expectations) (2.2.1)\n",
      "Requirement already satisfied: annotated-types>=0.6.0 in /home/paulet/Documents/data_validation_project/venv/lib/python3.11/site-packages (from pydantic>=1.10.7->great_expectations) (0.7.0)\n",
      "Requirement already satisfied: pydantic-core==2.27.2 in /home/paulet/Documents/data_validation_project/venv/lib/python3.11/site-packages (from pydantic>=1.10.7->great_expectations) (2.27.2)\n",
      "Requirement already satisfied: charset-normalizer<4,>=2 in /home/paulet/Documents/data_validation_project/venv/lib/python3.11/site-packages (from requests>=2.20->great_expectations) (3.4.1)\n",
      "Requirement already satisfied: idna<4,>=2.5 in /home/paulet/Documents/data_validation_project/venv/lib/python3.11/site-packages (from requests>=2.20->great_expectations) (3.10)\n",
      "Requirement already satisfied: urllib3<3,>=1.21.1 in /home/paulet/Documents/data_validation_project/venv/lib/python3.11/site-packages (from requests>=2.20->great_expectations) (2.3.0)\n",
      "Requirement already satisfied: certifi>=2017.4.17 in /home/paulet/Documents/data_validation_project/venv/lib/python3.11/site-packages (from requests>=2.20->great_expectations) (2024.12.14)\n",
      "Requirement already satisfied: ruamel.yaml.clib>=0.2.7 in /home/paulet/Documents/data_validation_project/venv/lib/python3.11/site-packages (from ruamel.yaml>=0.16->great_expectations) (0.2.12)\n",
      "Requirement already satisfied: pycparser in /home/paulet/Documents/data_validation_project/venv/lib/python3.11/site-packages (from cffi>=1.12->cryptography>=3.2->great_expectations) (2.22)\n",
      "\n",
      "\u001b[1m[\u001b[0m\u001b[34;49mnotice\u001b[0m\u001b[1;39;49m]\u001b[0m\u001b[39;49m A new release of pip is available: \u001b[0m\u001b[31;49m24.0\u001b[0m\u001b[39;49m -> \u001b[0m\u001b[32;49m24.3.1\u001b[0m\n",
      "\u001b[1m[\u001b[0m\u001b[34;49mnotice\u001b[0m\u001b[1;39;49m]\u001b[0m\u001b[39;49m To update, run: \u001b[0m\u001b[32;49mpip install --upgrade pip\u001b[0m\n",
      "Note: you may need to restart the kernel to use updated packages.\n"
     ]
    }
   ],
   "source": [
    "pip install great_expectations"
   ]
  },
  {
   "cell_type": "code",
   "execution_count": 77,
   "metadata": {},
   "outputs": [],
   "source": [
    "import great_expectations as gx\n"
   ]
  },
  {
   "cell_type": "code",
   "execution_count": 78,
   "metadata": {},
   "outputs": [
    {
     "data": {
      "text/plain": [
       "'1.3.0'"
      ]
     },
     "execution_count": 78,
     "metadata": {},
     "output_type": "execute_result"
    }
   ],
   "source": [
    "gx.__version__"
   ]
  },
  {
   "cell_type": "code",
   "execution_count": 79,
   "metadata": {},
   "outputs": [],
   "source": [
    "context = gx.get_context()"
   ]
  },
  {
   "cell_type": "code",
   "execution_count": 80,
   "metadata": {},
   "outputs": [
    {
     "name": "stdout",
     "output_type": "stream",
     "text": [
      "{\n",
      "  \"checkpoint_store_name\": \"checkpoint_store\",\n",
      "  \"config_variables_file_path\": \"uncommitted/config_variables.yml\",\n",
      "  \"config_version\": 4.0,\n",
      "  \"data_context_id\": \"b50d7d9c-cedc-4f73-bc0e-c7d8d82de171\",\n",
      "  \"data_docs_sites\": {\n",
      "    \"local_site\": {\n",
      "      \"class_name\": \"SiteBuilder\",\n",
      "      \"show_how_to_buttons\": true,\n",
      "      \"store_backend\": {\n",
      "        \"class_name\": \"TupleFilesystemStoreBackend\",\n",
      "        \"base_directory\": \"uncommitted/data_docs/local_site\"\n",
      "      },\n",
      "      \"site_index_builder\": {\n",
      "        \"class_name\": \"DefaultSiteIndexBuilder\"\n",
      "      }\n",
      "    }\n",
      "  },\n",
      "  \"expectations_store_name\": \"expectations_store\",\n",
      "  \"fluent_datasources\": {},\n",
      "  \"plugins_directory\": \"plugins/\",\n",
      "  \"stores\": {\n",
      "    \"expectations_store\": {\n",
      "      \"class_name\": \"ExpectationsStore\",\n",
      "      \"store_backend\": {\n",
      "        \"class_name\": \"TupleFilesystemStoreBackend\",\n",
      "        \"base_directory\": \"expectations/\"\n",
      "      }\n",
      "    },\n",
      "    \"validation_results_store\": {\n",
      "      \"class_name\": \"ValidationResultsStore\",\n",
      "      \"store_backend\": {\n",
      "        \"class_name\": \"TupleFilesystemStoreBackend\",\n",
      "        \"base_directory\": \"uncommitted/validations/\"\n",
      "      }\n",
      "    },\n",
      "    \"checkpoint_store\": {\n",
      "      \"class_name\": \"CheckpointStore\",\n",
      "      \"store_backend\": {\n",
      "        \"class_name\": \"TupleFilesystemStoreBackend\",\n",
      "        \"suppress_store_backend_id\": true,\n",
      "        \"base_directory\": \"checkpoints/\"\n",
      "      }\n",
      "    },\n",
      "    \"validation_definition_store\": {\n",
      "      \"class_name\": \"ValidationDefinitionStore\",\n",
      "      \"store_backend\": {\n",
      "        \"class_name\": \"TupleFilesystemStoreBackend\",\n",
      "        \"base_directory\": \"validation_definitions/\"\n",
      "      }\n",
      "    }\n",
      "  },\n",
      "  \"validation_results_store_name\": \"validation_results_store\"\n",
      "}\n"
     ]
    }
   ],
   "source": [
    "print(context)"
   ]
  },
  {
   "cell_type": "code",
   "execution_count": null,
   "metadata": {},
   "outputs": [],
   "source": []
  }
 ],
 "metadata": {
  "kernelspec": {
   "display_name": "venv",
   "language": "python",
   "name": "python3"
  },
  "language_info": {
   "codemirror_mode": {
    "name": "ipython",
    "version": 3
   },
   "file_extension": ".py",
   "mimetype": "text/x-python",
   "name": "python",
   "nbconvert_exporter": "python",
   "pygments_lexer": "ipython3",
   "version": "3.11.8"
  }
 },
 "nbformat": 4,
 "nbformat_minor": 2
}
